{
 "cells": [
  {
   "cell_type": "code",
   "execution_count": 2,
   "metadata": {},
   "outputs": [
    {
     "name": "stderr",
     "output_type": "stream",
     "text": [
      "C:\\Users\\billy\\AppData\\Local\\Packages\\PythonSoftwareFoundation.Python.3.9_qbz5n2kfra8p0\\LocalCache\\local-packages\\Python39\\site-packages\\tqdm\\auto.py:21: TqdmWarning: IProgress not found. Please update jupyter and ipywidgets. See https://ipywidgets.readthedocs.io/en/stable/user_install.html\n",
      "  from .autonotebook import tqdm as notebook_tqdm\n"
     ]
    }
   ],
   "source": [
    "# Import necessary libraries\n",
    "import tensorflow as tf\n",
    "import tensorflow_datasets as tfds\n",
    "import matplotlib.pyplot as plt\n",
    "import numpy as np\n",
    "import os\n"
   ]
  },
  {
   "cell_type": "code",
   "execution_count": null,
   "metadata": {},
   "outputs": [],
   "source": [
    "LLVIP_path = \"YoloV5_ComputerVision/LLVIP.zip\"\n",
    "# !unzip -q $LLVIP_path -d YoloV5_ComputerVision/LLVIP"
   ]
  },
  {
   "cell_type": "code",
   "execution_count": null,
   "metadata": {},
   "outputs": [],
   "source": [
    "# Download and prepare the fall detection dataset\n",
    "data, info = tfds.load('fall_detection', with_info=True, as_supervised=True)\n",
    "train_data, test_data = data['train'], data['test']\n",
    "clear_output()\n"
   ]
  },
  {
   "cell_type": "code",
   "execution_count": null,
   "metadata": {},
   "outputs": [],
   "source": [
    "# Define the YOLOv5 model architecture\n",
    "model = tf.keras.models.Sequential([\n",
    "    # Add the YOLOv5 backbone layers\n",
    "    tf.keras.applications.YOLOv5Small(\n",
    "        input_shape=(416, 416, 3), include_top=False),\n",
    "    # Add a global average pooling layer\n",
    "    tf.keras.layers.GlobalAveragePooling2D(),\n",
    "    # Add a dense output layer for classification\n",
    "    tf.keras.layers.Dense(1, activation='sigmoid')\n",
    "])\n",
    "\n",
    "# Compile the model\n",
    "model.compile(optimizer='adam',\n",
    "              loss='binary_crossentropy',\n",
    "              metrics=['accuracy'])\n"
   ]
  },
  {
   "cell_type": "code",
   "execution_count": null,
   "metadata": {},
   "outputs": [],
   "source": [
    "model.summary()"
   ]
  },
  {
   "cell_type": "code",
   "execution_count": null,
   "metadata": {},
   "outputs": [],
   "source": [
    "\n",
    "# Set up the training and validation data\n",
    "train_data = train_data.map(lambda x, y: (tf.image.resize(x, (416, 416)), y))\n",
    "test_data = test_data.map(lambda x, y: (tf.image.resize(x, (416, 416)), y))\n",
    "train_data = train_data.batch(32).prefetch(2)\n",
    "test_data = test_data.batch(32).prefetch(2)\n",
    "\n",
    "# Train the model\n",
    "history = model.fit(train_data, epochs=10, validation_data=test_data)\n",
    "\n",
    "# Evaluate the model\n",
    "test_loss, test_acc = model.evaluate(test_data)\n",
    "print('Test accuracy:', test_acc)\n",
    "\n",
    "# Save the trained model\n",
    "model.save('fall_detection_model.h5')\n"
   ]
  }
 ],
 "metadata": {
  "kernelspec": {
   "display_name": "venv",
   "language": "python",
   "name": "python3"
  },
  "language_info": {
   "codemirror_mode": {
    "name": "ipython",
    "version": 3
   },
   "file_extension": ".py",
   "mimetype": "text/x-python",
   "name": "python",
   "nbconvert_exporter": "python",
   "pygments_lexer": "ipython3",
   "version": "3.9.13"
  },
  "orig_nbformat": 4
 },
 "nbformat": 4,
 "nbformat_minor": 2
}
